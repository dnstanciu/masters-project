{
 "cells": [
  {
   "cell_type": "markdown",
   "metadata": {},
   "source": [
    "# Plot MST Measures"
   ]
  },
  {
   "cell_type": "markdown",
   "metadata": {},
   "source": [
    "Here we plot different **MST** measures from the computed connectivity matrices."
   ]
  },
  {
   "cell_type": "code",
   "execution_count": 2,
   "metadata": {
    "collapsed": false
   },
   "outputs": [],
   "source": [
    "from pprint import pprint"
   ]
  },
  {
   "cell_type": "code",
   "execution_count": 3,
   "metadata": {
    "collapsed": false
   },
   "outputs": [],
   "source": [
    "import scipy"
   ]
  },
  {
   "cell_type": "code",
   "execution_count": 4,
   "metadata": {
    "collapsed": false
   },
   "outputs": [],
   "source": [
    "import pandas as pd"
   ]
  },
  {
   "cell_type": "code",
   "execution_count": 5,
   "metadata": {
    "collapsed": false
   },
   "outputs": [],
   "source": [
    "from pandas.tools.plotting import parallel_coordinates"
   ]
  },
  {
   "cell_type": "code",
   "execution_count": 6,
   "metadata": {
    "collapsed": false
   },
   "outputs": [],
   "source": [
    "from pandas import concat"
   ]
  },
  {
   "cell_type": "code",
   "execution_count": 7,
   "metadata": {
    "collapsed": false
   },
   "outputs": [],
   "source": [
    "import matplotlib\n",
    "# Set backend to pgf\n",
    "matplotlib.use('pgf')\n",
    "import matplotlib.pyplot as plt\n",
    "import numpy as np\n",
    "\n",
    "# Some nice default configuration for plots\n",
    "plt.rcParams['figure.figsize'] = 10, 7.5\n",
    "plt.rcParams['axes.grid'] = True\n",
    "plt.rcParams['axes.color_cycle'] = ['g', 'b', 'r']\n",
    "plt.gray()"
   ]
  },
  {
   "cell_type": "code",
   "execution_count": 8,
   "metadata": {
    "collapsed": false
   },
   "outputs": [],
   "source": [
    "%matplotlib inline"
   ]
  },
  {
   "cell_type": "code",
   "execution_count": 9,
   "metadata": {
    "collapsed": false
   },
   "outputs": [],
   "source": [
    "from pylab import *"
   ]
  },
  {
   "cell_type": "code",
   "execution_count": 10,
   "metadata": {
    "collapsed": false
   },
   "outputs": [],
   "source": [
    "from scipy.io import loadmat"
   ]
  },
  {
   "cell_type": "code",
   "execution_count": 11,
   "metadata": {
    "collapsed": false
   },
   "outputs": [],
   "source": [
    "import operator"
   ]
  },
  {
   "cell_type": "code",
   "execution_count": 12,
   "metadata": {
    "collapsed": false
   },
   "outputs": [
    {
     "data": {
      "text/plain": [
       "u'/home/dragos/DTC/MSc/SummerProjectReplay/doc'"
      ]
     },
     "execution_count": 12,
     "metadata": {},
     "output_type": "execute_result"
    }
   ],
   "source": [
    "pwd"
   ]
  },
  {
   "cell_type": "code",
   "execution_count": 13,
   "metadata": {
    "collapsed": false
   },
   "outputs": [],
   "source": [
    "randomSeed = 20;\n",
    "\n",
    "# TODO: Change accordingly\n",
    "CONNECTIVITY_MEASURE = 'dWPLI'\n",
    "DATASETS_FOLDER = '/home/dragos/DTC/MSc/SummerProject/processed_data/features/'\n",
    "DATASETS_FOLDER = DATASETS_FOLDER + CONNECTIVITY_MEASURE + '/mst/datasets/'\n",
    "nameOfDataFileMat = 'datasetMSTGraphMeasures.mat'\n",
    "nameOfDataFileCSV = 'datasetMSTGraphMeasures.csv'"
   ]
  },
  {
   "cell_type": "markdown",
   "metadata": {},
   "source": [
    "### MST Dataset Structure\n",
    "\n",
    "The order of frequency bands is as follows:\n",
    "\n",
    "Alfa | Beta | Delta | Gamma | Theta | Class\n",
    "\n",
    "Each band has **6** columns, where each column corresponds to a graph feature, in the following order:\n",
    "\n",
    "- no of leaves\n",
    "- characteristic path length (L)\n",
    "- global efficiency (GE)\n",
    "- average eccentricity (avgECC)\n",
    "- radius\n",
    "- diameter"
   ]
  },
  {
   "cell_type": "code",
   "execution_count": 14,
   "metadata": {
    "collapsed": false
   },
   "outputs": [],
   "source": [
    "# store frequencies of interest order as they appear in the dataset table\n",
    "FoQ_table_order = dict([('delta', 3), ('theta', 5),\n",
    "                         ('alpha', 1), ('beta', 2),\n",
    "                         ('gamma', 4)])\n",
    "\n",
    "# store plot order (in order of frequency values of each bands)\n",
    "plot_order = dict([ (1, 'delta'), (2, 'theta'), (3, 'alpha'), \n",
    "                   (4, 'beta'), (5, 'gamma') ])\n",
    "\n",
    "# stores class labels\n",
    "classLabels = dict([ (1, \"CS\"), (2, \"MCI\"), (3, \"AD\") ])\n",
    "\n",
    "# stores the order in which the measures are specified in the MST dataset matrix\n",
    "graphMeasures = dict([('leaf no', 1), ('L', 2), ('diameter', 6)])\n",
    "graphMeasuresForPlots = dict([('leaf no', 1), ('L', 2), ('diameter', 3)])\n",
    "\n",
    "#### CAREFUL! I have 6 MST measures instead of 5 classical measures! ###\n",
    "# Although I'm interested in only leaf no, L and diameter, I need the actual no of measures in the table for indexing!\n",
    "NO_OF_GRAPH_MEASURES = 6"
   ]
  },
  {
   "cell_type": "code",
   "execution_count": 15,
   "metadata": {
    "collapsed": false
   },
   "outputs": [
    {
     "name": "stdout",
     "output_type": "stream",
     "text": [
      "6\n"
     ]
    }
   ],
   "source": [
    "print NO_OF_GRAPH_MEASURES"
   ]
  },
  {
   "cell_type": "code",
   "execution_count": 16,
   "metadata": {
    "collapsed": false
   },
   "outputs": [],
   "source": [
    "### The following code snippet is from http://stackoverflow.com/a/22937095 ###\n",
    "\n",
    "# this is just a helper class to keep things clean\n",
    "class MyAxis(object):\n",
    "    def __init__(self,ax,fig):\n",
    "        # this flag tells me if there is a plot in these axes\n",
    "        self.empty = False\n",
    "        self.ax = ax\n",
    "        self.fig = fig\n",
    "        self.pos = self.ax.get_position()\n",
    "\n",
    "    def del_ax(self):\n",
    "        # delete the axes\n",
    "        self.empty = True\n",
    "        self.fig.delaxes(self.ax)\n",
    "\n",
    "    def swap(self,other):\n",
    "        # swap the positions of two axes\n",
    "        #\n",
    "        # THIS IS THE IMPORTANT BIT!\n",
    "        #\n",
    "        new_pos = other.ax.get_position()\n",
    "        self.ax.set_position(new_pos)\n",
    "        other.ax.set_position(self.pos)\n",
    "        self.pos = new_pos"
   ]
  },
  {
   "cell_type": "code",
   "execution_count": 17,
   "metadata": {
    "collapsed": false
   },
   "outputs": [
    {
     "name": "stdout",
     "output_type": "stream",
     "text": [
      "1\n",
      "2\n",
      "3\n",
      "4\n",
      "5\n"
     ]
    }
   ],
   "source": [
    "for bandOrderIdx in plot_order.keys():\n",
    "    print bandOrderIdx"
   ]
  },
  {
   "cell_type": "code",
   "execution_count": 19,
   "metadata": {
    "collapsed": false
   },
   "outputs": [
    {
     "name": "stdout",
     "output_type": "stream",
     "text": [
      "/home/dragos/DTC/MSc/SummerProjectReplay/processed_data/meta/features/mst/datasets/datasetMSTMeasures.mat\n"
     ]
    }
   ],
   "source": [
    "data_file_path = DATASETS_FOLDER + nameOfDataFileMat\n",
    "print data_file_path"
   ]
  },
  {
   "cell_type": "markdown",
   "metadata": {},
   "source": [
    "### Plotting of MST Measures"
   ]
  },
  {
   "cell_type": "code",
   "execution_count": 22,
   "metadata": {
    "collapsed": false
   },
   "outputs": [
    {
     "data": {
      "image/png": "[encoded data removed]",
      "text/plain": [
       "<matplotlib.figure.Figure at 0x7ff5e87b2e10>"
      ]
     },
     "metadata": {},
     "output_type": "display_data"
    }
   ],
   "source": [
    "myFig, axes = plt.subplots(nrows=5, ncols=3)\n",
    "my_axes = [MyAxis(ax,myFig) for ax in axes.ravel()]\n",
    "\n",
    "#myFig.tight_layout()\n",
    "left  = 0.125  # the left side of the subplots of the figure\n",
    "right = 0.9    # the right side of the subplots of the figure\n",
    "bottom = 0.1   # the bottom of the subplots of the figure\n",
    "top = 0.93      # the top of the subplots of the figure\n",
    "wspace = 0.4   # the amount of width reserved for blank space between subplots\n",
    "hspace = 0.3   # the amount of height reserved for white space between subplots\n",
    "\n",
    "myFig.subplots_adjust(left, bottom, right, top, wspace, hspace)\n",
    "\n",
    "for thisAx in my_axes:\n",
    "    # delete all axes\n",
    "    thisAx.del_ax()\n",
    "    #my_axes[6].del_ax()\n",
    "\n",
    "myFig.set_size_inches(11,15)\n",
    "\n",
    "myFig.suptitle('MST Measures for dWPLI', fontsize=15)\n",
    "\n",
    "### Here we generate dictionaries of graph measures, where each graph measure points to a\n",
    "### dict of bands of interest (alfa, beta..); each band of interest points to a dictionary of classes (MCI, AD..);\n",
    "### Summary: graph measure --> band --> class\n",
    "\n",
    "measureToBand = dict()\n",
    "\n",
    "# signficiant results/plots by indices\n",
    "significants = [1,4,5,6]\n",
    "\n",
    "# for each graph measure\n",
    "for currentMeasure, measureOrder in sorted(graphMeasures.iteritems(), key=operator.itemgetter(1)):\n",
    "    \n",
    "    bandToClass = dict()    \n",
    "    \n",
    "    # for each frequency band of interest\n",
    "    for bandOrderIdx in plot_order.keys():\n",
    "        bandName = plot_order[bandOrderIdx]   \n",
    "        \n",
    "        # plot bands as columns and MST measures as rows\n",
    "        plotIndex = len(graphMeasures)*(bandOrderIdx-1)+graphMeasuresForPlots[currentMeasure]\n",
    "        bandPlot = myFig.add_subplot(5,3,plotIndex)\n",
    "        bandPlot.hold(True)\n",
    "        \n",
    "        # if significant p value, put (*)\n",
    "        if plotIndex in significants:\n",
    "            bandPlot.set_title(bandName + \" (*)\")\n",
    "        else:\n",
    "            bandPlot.set_title(bandName)\n",
    "            \n",
    "        #leg = []\n",
    "        #legp = []  \n",
    "        bandPlot.set_ylabel(currentMeasure)    \n",
    "                       \n",
    "        for currentClass in sorted(classLabels.keys()):                    \n",
    "            data_file_path = DATASETS_FOLDER + nameOfDataFileMat\n",
    "            \n",
    "            #load dataset\n",
    "            data_dict = loadmat(data_file_path)\n",
    "            data = data_dict['dataset']\n",
    "            \n",
    "            n_samples = data.shape[0]\n",
    "            features = data[:, :-1]\n",
    "            targets = data[:, -1]\n",
    "            \n",
    "            classIdxs = np.where(targets == currentClass)\n",
    "            classFeatures = features[classIdxs]\n",
    "            \n",
    "            measureIndex = NO_OF_GRAPH_MEASURES*(FoQ_table_order[bandName]-1) + (graphMeasures[currentMeasure]-1)\n",
    "            \n",
    "            if currentClass == 1:\n",
    "                CSdata = classFeatures[:, measureIndex]\n",
    "            elif currentClass == 2:\n",
    "                MCIdata = classFeatures[:, measureIndex]\n",
    "            elif currentClass == 3:\n",
    "                ADdata = classFeatures[:, measureIndex]\n",
    "        \n",
    "        bandPlot.boxplot([CSdata, MCIdata, ADdata])\n",
    "        plt.xticks([1,2,3],['CON','MCI','AD'])"
   ]
  },
  {
   "cell_type": "code",
   "execution_count": 21,
   "metadata": {
    "collapsed": false
   },
   "outputs": [],
   "source": [
    "myFig.savefig('MSTMeasuresdWPLI.pdf')"
   ]
  },
  {
   "cell_type": "code",
   "execution_count": 6,
   "metadata": {
    "collapsed": false
   },
   "outputs": [
    {
     "data": {
      "text/plain": [
       "u'/home/dragos/DTC/MSc/SummerProjectReplay/doc'"
      ]
     },
     "execution_count": 6,
     "metadata": {},
     "output_type": "execute_result"
    }
   ],
   "source": [
    "pwd"
   ]
  }
 ],
 "metadata": {
  "celltoolbar": "Raw Cell Format",
  "kernelspec": {
   "display_name": "Python 2",
   "language": "python",
   "name": "python2"
  },
  "language_info": {
   "codemirror_mode": {
    "name": "ipython",
    "version": 2
   },
   "file_extension": ".py",
   "mimetype": "text/x-python",
   "name": "python",
   "nbconvert_exporter": "python",
   "pygments_lexer": "ipython2",
   "version": "2.7.6"
  }
 },
 "nbformat": 4,
 "nbformat_minor": 0
}
