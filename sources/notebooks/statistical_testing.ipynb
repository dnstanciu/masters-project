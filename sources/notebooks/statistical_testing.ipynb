{
 "cells": [
  {
   "cell_type": "markdown",
   "metadata": {},
   "source": [
    "## Statistical Testing"
   ]
  },
  {
   "cell_type": "markdown",
   "metadata": {},
   "source": [
    "Here we perform statistical testing using **Functional Data Analysis** (FDA), as in [this paper](http://www.sciencedirect.com/science/article/pii/S1053811911011633). This is explained in the MSc report, **Section 5.1**."
   ]
  },
  {
   "cell_type": "code",
   "execution_count": 1,
   "metadata": {
    "collapsed": false
   },
   "outputs": [],
   "source": [
    "import random\n",
    "random.seed(20)"
   ]
  },
  {
   "cell_type": "code",
   "execution_count": 2,
   "metadata": {
    "collapsed": false
   },
   "outputs": [],
   "source": [
    "from pprint import pprint"
   ]
  },
  {
   "cell_type": "code",
   "execution_count": 3,
   "metadata": {
    "collapsed": false
   },
   "outputs": [],
   "source": [
    "import scipy"
   ]
  },
  {
   "cell_type": "code",
   "execution_count": 4,
   "metadata": {
    "collapsed": false
   },
   "outputs": [],
   "source": [
    "import pandas as pd"
   ]
  },
  {
   "cell_type": "code",
   "execution_count": 5,
   "metadata": {
    "collapsed": false
   },
   "outputs": [],
   "source": [
    "from pandas.tools.plotting import parallel_coordinates"
   ]
  },
  {
   "cell_type": "code",
   "execution_count": 6,
   "metadata": {
    "collapsed": false
   },
   "outputs": [],
   "source": [
    "from pandas import concat"
   ]
  },
  {
   "cell_type": "code",
   "execution_count": 7,
   "metadata": {
    "collapsed": false
   },
   "outputs": [],
   "source": [
    "import matplotlib\n",
    "# Set backend to pgf\n",
    "matplotlib.use('pgf')\n",
    "import matplotlib.pyplot as plt\n",
    "import numpy as np\n",
    "\n",
    "# Some nice default configuration for plots\n",
    "plt.rcParams['figure.figsize'] = 10, 7.5\n",
    "plt.rcParams['axes.grid'] = True\n",
    "plt.rcParams['axes.color_cycle'] = ['g', 'b', 'r']\n",
    "plt.gray()"
   ]
  },
  {
   "cell_type": "code",
   "execution_count": 8,
   "metadata": {
    "collapsed": false
   },
   "outputs": [],
   "source": [
    "%matplotlib inline"
   ]
  },
  {
   "cell_type": "code",
   "execution_count": 9,
   "metadata": {
    "collapsed": false
   },
   "outputs": [],
   "source": [
    "from scipy.io import loadmat"
   ]
  },
  {
   "cell_type": "code",
   "execution_count": 10,
   "metadata": {
    "collapsed": false
   },
   "outputs": [],
   "source": [
    "import operator"
   ]
  },
  {
   "cell_type": "code",
   "execution_count": 11,
   "metadata": {
    "collapsed": false
   },
   "outputs": [],
   "source": [
    "randomSeed = 20;\n",
    "\n",
    "# TODO: Change accordingly\n",
    "CONNECTIVITY_MEASURE = 'dWPLI'\n",
    "DATASETS_FOLDER = '/home/dragos/DTC/MSc/SummerProject/processed_data/features/'\n",
    "DATASETS_FOLDER = DATASETS_FOLDER + CONNECTIVITY_MEASURE + '/full_graph/datasets/'\n",
    "nameOfDataFileMat = 'datasetFullGraphMeasures.mat'\n",
    "nameOfDataFileCSV = 'datasetFullGraphMeasures.csv'"
   ]
  },
  {
   "cell_type": "markdown",
   "metadata": {},
   "source": [
    "### Dataset File Structure\n",
    "\n",
    "Dataset layout\n",
    "\n",
    "The order of the features associated with each band is the following:\n",
    "\n",
    "Alfa Beta Delta Gamma Theta Class\n",
    "\n",
    "Each band has 5 columns, where each column corresponds to a graph feature, in the following order:\n",
    "\n",
    "- average clustering coefficient (C)\n",
    "- characteristic path length (L)\n",
    "- global efficiency (GE)\n",
    "- small-worldness (SW)\n",
    "- modularity (Q)"
   ]
  },
  {
   "cell_type": "markdown",
   "metadata": {},
   "source": [
    "Create dataset mappings used for Functional Data Analysis (FDA)."
   ]
  },
  {
   "cell_type": "code",
   "execution_count": 12,
   "metadata": {
    "collapsed": false
   },
   "outputs": [],
   "source": [
    "# store frequencies of interest order as they appear in the dataset table\n",
    "FoQ_table_order = dict([('delta', 3), ('theta', 5),\n",
    "                         ('alpha', 1), ('beta', 2),\n",
    "                         ('gamma', 4)])\n",
    "\n",
    "# store plot order (in order of frequency values of each bands)\n",
    "plot_order = dict([ (1, 'delta'), (2, 'theta'), (3, 'alpha'), \n",
    "                   (4, 'beta'), (5, 'gamma') ])\n",
    "\n",
    "# stores class labels\n",
    "classLabels = dict([ (1, \"CS\"), (2, \"MCI\"), (3, \"AD\") ])\n",
    "\n",
    "# stores the order in which the measures are specified in the dataset matrix\n",
    "graphMeasures = dict([('C', 1), ('L', 2), ('GE', 3), ('SW', 4), ('Q', 5)])\n",
    "\n",
    "# stores the long names of the measures\n",
    "graphMeasuresLong = dict([(1, 'Clustering Coefficient'), (2, 'Characteristic Path Length'),\n",
    "                          (3, 'Global Efficiency'), (4, 'Small-Worldness'), (5, 'Modularity')])"
   ]
  },
  {
   "cell_type": "code",
   "execution_count": 13,
   "metadata": {
    "collapsed": false
   },
   "outputs": [],
   "source": [
    "thresholdVec = np.array([[0.05], [0.1], [0.15], [0.2], [0.3]])"
   ]
  },
  {
   "cell_type": "code",
   "execution_count": 16,
   "metadata": {
    "collapsed": false
   },
   "outputs": [
    {
     "data": {
      "text/plain": [
       "[('C', 1), ('L', 2), ('GE', 3), ('SW', 4), ('Q', 5)]"
      ]
     },
     "execution_count": 16,
     "metadata": {},
     "output_type": "execute_result"
    }
   ],
   "source": [
    "sorted(graphMeasures.iteritems(), key=operator.itemgetter(1))"
   ]
  },
  {
   "cell_type": "markdown",
   "metadata": {},
   "source": [
    "## FDA Analysis"
   ]
  },
  {
   "cell_type": "code",
   "execution_count": 16,
   "metadata": {
    "collapsed": false
   },
   "outputs": [
    {
     "name": "stdout",
     "output_type": "stream",
     "text": [
      "C CS MCI delta 0.147\n",
      "C CS AD delta 0.1941\n",
      "C MCI AD delta 0.0027\n",
      "C CS MCI theta 0.2541\n",
      "C CS AD theta 0.4323\n",
      "C MCI AD theta 0.0081\n",
      "C CS MCI alpha 0.2175\n",
      "C CS AD alpha 0.9422\n",
      "C MCI AD alpha 0.0876\n",
      "C CS MCI beta 0.32\n",
      "C CS AD beta 0.0287\n",
      "C MCI AD beta 0.192\n",
      "C CS MCI gamma 0.4006\n",
      "C CS AD gamma 0.1254\n",
      "C MCI AD gamma 0.302\n",
      "L CS MCI delta 0.2922\n",
      "L CS AD delta 0.0794\n",
      "L MCI AD delta 0.0222\n",
      "L CS MCI theta 0.1522\n",
      "L CS AD theta 0.6006\n",
      "L MCI AD theta 0.163\n",
      "L CS MCI alpha 0.1237\n",
      "L CS AD alpha 0.0963\n",
      "L MCI AD alpha 0.6627\n",
      "L CS MCI beta 0.1532\n",
      "L CS AD beta 0.0013\n",
      "L MCI AD beta 0.0674\n",
      "L CS MCI gamma 0.4131\n",
      "L CS AD gamma 0.0762\n",
      "L MCI AD gamma 0.1738\n",
      "GE CS MCI delta 0.1228\n",
      "GE CS AD delta 0.1194\n",
      "GE MCI AD delta 0.0045\n",
      "GE CS MCI theta 0.1772\n",
      "GE CS AD theta 0.7637\n",
      "GE MCI AD theta 0.0644\n",
      "GE CS MCI alpha 0.2632\n",
      "GE CS AD alpha 0.73\n",
      "GE MCI AD alpha 0.2193\n",
      "GE CS MCI beta 0.85\n",
      "GE CS AD beta 0.5976\n",
      "GE MCI AD beta 0.2561\n",
      "GE CS MCI gamma 0.2032\n",
      "GE CS AD gamma 0.1104\n",
      "GE MCI AD gamma 0.014\n",
      "SW CS MCI delta 0.2604\n",
      "SW CS AD delta 0.0367\n",
      "SW MCI AD delta 0.0054\n",
      "SW CS MCI theta 0.1221\n",
      "SW CS AD theta 0.7625\n",
      "SW MCI AD theta 0.0148\n",
      "SW CS MCI alpha 0.103\n",
      "SW CS AD alpha 0.1784\n",
      "SW MCI AD alpha 0.7169\n",
      "SW CS MCI beta 0.3975\n",
      "SW CS AD beta 0.2107\n",
      "SW MCI AD beta 0.7289\n",
      "SW CS MCI gamma 0.347\n",
      "SW CS AD gamma 0.191\n",
      "SW MCI AD gamma 0.0362\n",
      "Q CS MCI delta 0.7647\n",
      "Q CS AD delta 0.2373\n",
      "Q MCI AD delta 0.2566\n",
      "Q CS MCI theta 0.4433\n",
      "Q CS AD theta 0.9974\n",
      "Q MCI AD theta 0.2156\n",
      "Q CS MCI alpha 0.7613\n",
      "Q CS AD alpha 0.7781\n",
      "Q MCI AD alpha 0.6965\n",
      "Q CS MCI beta 0.6563\n",
      "Q CS AD beta 0.6552\n",
      "Q MCI AD beta 0.146\n",
      "Q CS MCI gamma 0.4493\n",
      "Q CS AD gamma 0.5859\n",
      "Q MCI AD gamma 0.8743\n"
     ]
    }
   ],
   "source": [
    "################################################################################\n",
    "### FDA Analysis between every two group pair for each measure, in all bands ###\n",
    "\n",
    "## subject numbers: (26 in CS, 18 in MCI, 36 in AD) ##\n",
    "\n",
    "classPairs = {(1,2), (1,3), (2,3)}\n",
    "\n",
    "#with open(\"pValues\",\"w\") as f:\n",
    "\n",
    "CSidxs = range(0,26); MCIidxs = range(26,44); ADidxs = range(44, 80);\n",
    "\n",
    "classToNumbering = dict()\n",
    "classToNumbering[1] = CSidxs\n",
    "classToNumbering[2] = MCIidxs\n",
    "classToNumbering[3] = ADidxs\n",
    "\n",
    "\n",
    "# for each graph measure\n",
    "for currentMeasure, measureOrder in sorted(graphMeasures.iteritems(), key=operator.itemgetter(1)):\n",
    "\n",
    "    # for each frequency band of interest\n",
    "    for bandOrderIdx in plot_order.keys():\n",
    "        bandName = plot_order[bandOrderIdx]\n",
    "\n",
    "        for pair in classPairs:\n",
    "            oneClass = pair[0]\n",
    "            otherClass = pair[1]                \n",
    "\n",
    "            classIdxs = classToNumbering[oneClass] + classToNumbering[otherClass]\n",
    "\n",
    "            ### compute empirical A (between the plotted curves)\n",
    "            A = 0\n",
    "            for threshold in np.nditer(thresholdVec):        \n",
    "                A = A + abs( measureToBand[currentMeasure][bandOrderIdx][oneClass][threshold[()]] -\n",
    "                            measureToBand[currentMeasure][bandOrderIdx][otherClass][threshold[()]] )\n",
    "\n",
    "            ### permute and compute Astar for pseudo groups\n",
    "            AstarList = []\n",
    "\n",
    "            for l in range(0,10000):\n",
    "                random.shuffle(classIdxs)\n",
    "                pseudoOneClass = classIdxs[:len(classToNumbering[oneClass])] # assign first X IDs in the first pseudo group\n",
    "                pseudoOtherClass = classIdxs[len(classToNumbering[oneClass]):] # assign the rest of the IDs to the second pseudo group\n",
    "\n",
    "                Astar = 0\n",
    "\n",
    "                for threshold in np.nditer(thresholdVec):\n",
    "                    data_file_path = DATASETS_FOLDER + str(threshold) + '/' +  nameOfDataFileMat\n",
    "\n",
    "                    # load dataset \n",
    "                    data_dict = loadmat(data_file_path)\n",
    "                    data = data_dict['dataset']\n",
    "                    theThreshold = data_dict['threshold']\n",
    "\n",
    "                    n_samples = data.shape[0]\n",
    "                    features = data[:, :-1]\n",
    "                    targets = data[:, -1]\n",
    "\n",
    "                    measureIndex = len(graphMeasures)*(FoQ_table_order[bandName]-1) + (graphMeasures[currentMeasure]-1)\n",
    "\n",
    "                    # compute average and mean of all subjects in the pseudoClass\n",
    "                    meanPseudoOneClass = (features[pseudoOneClass, measureIndex]).mean()\n",
    "                    meanPseudoOtherClass = (features[pseudoOtherClass, measureIndex]).mean()\n",
    "\n",
    "                    Astar = Astar + abs(meanPseudoOneClass - meanPseudoOtherClass)\n",
    "\n",
    "                AstarList.append(Astar)\n",
    "\n",
    "            Astar_greater_than_A = sum(i > A for i in AstarList)\n",
    "            pValue = float(Astar_greater_than_A)/10000\n",
    "            print(currentMeasure + \" \" + classLabels[oneClass] + \" \" + classLabels[otherClass] + \n",
    "                  \" \" + bandName + \" \" + str(pValue))\n",
    "            #f.write(currentMeasure + \" & \" + classLabels[oneClass] + \" & \" + classLabels[otherClass] + \n",
    "            #      \" & \" + bandName + \" & \" + str(pValue) + r\"\\\\\" + \"\\n\" )"
   ]
  },
  {
   "cell_type": "code",
   "execution_count": 16,
   "metadata": {
    "collapsed": false
   },
   "outputs": [
    {
     "name": "stdout",
     "output_type": "stream",
     "text": [
      "[('C', 1), ('L', 2), ('GE', 3), ('SW', 4), ('Q', 5)]\n"
     ]
    }
   ],
   "source": [
    "print(sorted(graphMeasures.iteritems(), key=operator.itemgetter(1)))"
   ]
  },
  {
   "cell_type": "code",
   "execution_count": 19,
   "metadata": {
    "collapsed": false
   },
   "outputs": [
    {
     "name": "stdout",
     "output_type": "stream",
     "text": [
      "[1, 2, 3, 4, 5]\n"
     ]
    }
   ],
   "source": [
    "print(plot_order.keys())"
   ]
  }
 ],
 "metadata": {
  "kernelspec": {
   "display_name": "Python 2",
   "language": "python",
   "name": "python2"
  },
  "language_info": {
   "codemirror_mode": {
    "name": "ipython",
    "version": 2
   },
   "file_extension": ".py",
   "mimetype": "text/x-python",
   "name": "python",
   "nbconvert_exporter": "python",
   "pygments_lexer": "ipython2",
   "version": "2.7.6"
  }
 },
 "nbformat": 4,
 "nbformat_minor": 0
}
